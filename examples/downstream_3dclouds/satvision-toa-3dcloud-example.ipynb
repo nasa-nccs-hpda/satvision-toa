{
 "cells": [
  {
   "cell_type": "markdown",
   "id": "110d24bc-961f-4fc3-bd5a-693bfa67af99",
   "metadata": {},
   "source": [
    "# 3D Cloud TOA Notebook\n",
    "This notebook allows the user to perform inference on cloud content in ABI data. \n",
    "\n",
    "ABI data is loaded from disk, and a 128x128 chip is created from user-defined lat, lon input. Users can either input one single lat/lon pair, which will be the center of the generated image, or 2 \"endpoints\". In the case of endpoints, the center of the image will be the midpoint of both inputs. *See the \"user-defined values\" cell for example usage.*\n",
    "\n",
    "The generated image (128x128 pixel \"chip\") will then be generated, processed, and be fed into the model. Finally, the image and the transect used will be plotted alongside the model output, a predicted cloud mask at varying altitudes.  "
   ]
  },
  {
   "cell_type": "markdown",
   "id": "89237955-6d75-42f1-9b6d-e5bcd1c49272",
   "metadata": {
    "tags": []
   },
   "source": [
    "## Installs/imports"
   ]
  },
  {
   "cell_type": "code",
   "execution_count": null,
   "id": "97db5d23-3a38-413e-9b67-7ab1fbc427d9",
   "metadata": {
    "tags": []
   },
   "outputs": [],
   "source": [
    "import os\n",
    "import sys\n",
    "import torch\n",
    "import subprocess\n",
    "from huggingface_hub import snapshot_download"
   ]
  },
  {
   "cell_type": "code",
   "execution_count": null,
   "id": "e1e00463-e23c-4de3-a3ec-d0d583731a46",
   "metadata": {},
   "outputs": [],
   "source": [
    "repo_dir = \"satvision-toa\"\n",
    "\n",
    "if not os.path.exists(repo_dir):\n",
    "    subprocess.run([\"git\", \"clone\", \"https://github.com/nasa-nccs-hpda/satvision-toa\"])\n",
    "else:\n",
    "    subprocess.run([\"git\", \"-C\", repo_dir, \"pull\"])"
   ]
  },
  {
   "cell_type": "code",
   "execution_count": null,
   "id": "ef3a4448-7cea-40b9-800b-9c411c691956",
   "metadata": {},
   "outputs": [],
   "source": [
    "sys.path.append('satvision-toa')\n",
    "from satvision_toa.data_utils.utils_3dcloud import (\n",
    "    load_abi, \n",
    "    create_chip,\n",
    "    plot_rgb_chip_and_mask, \n",
    "    FCN,\n",
    "    load_config\n",
    ")\n",
    "from satvision_toa.configs.config import _C, _update_config_from_file\n",
    "from satvision_toa.models.mim import build_mim_model"
   ]
  },
  {
   "cell_type": "markdown",
   "id": "13f35e75-7381-4fa9-bf81-17db0e8f0e33",
   "metadata": {
    "tags": []
   },
   "source": [
    "## User-defined values"
   ]
  },
  {
   "cell_type": "code",
   "execution_count": null,
   "id": "3a3cdb8b-7997-4ef2-ab1b-dcdd535055b2",
   "metadata": {},
   "outputs": [],
   "source": [
    "# Time of day, year, day of year\n",
    "t = 15  # 15, 16, 17, 19\n",
    "YYYY = \"2019\"\n",
    "DDD = \"270\"\n",
    "\n",
    "# ----------------------------------------\n",
    "# Input 2 endpoints p1, p2 or a single point to generate chip\n",
    "# (single point is center of chip). Generated endpoint must be\n",
    "# within the bounds:\n",
    "#    lat: [-39.5, 39.5]\n",
    "#    lon: [-122.5, -26.25]\n",
    "# ----------------------------------------\n",
    "\n",
    "\n",
    "def midpoint(p1, p2):\n",
    "    return (p1[0]+p2[0])/2, (p1[1]+p2[1])/2\n",
    "\n",
    "\n",
    "p1 = (20, -50)\n",
    "p2 = (25, -45)\n",
    "lat, lon = midpoint(p1, p2)\n",
    "print(f'lat, lon midpoint used to generate chip: {lat, lon}')"
   ]
  },
  {
   "cell_type": "markdown",
   "id": "3fbfbd89-da82-458f-9c4d-b53c36de9af7",
   "metadata": {},
   "source": [
    "## Download Demo Data From HuggingFace"
   ]
  },
  {
   "cell_type": "code",
   "execution_count": null,
   "id": "b9b434b4-84ed-434b-93b3-3e891926c5e3",
   "metadata": {},
   "outputs": [],
   "source": [
    "# Example dataset URL\n",
    "hf_dataset_repo_id: str = 'nasa-cisto-data-science-group/downstream-3dclouds-subset'\n",
    "abi_data_dir = snapshot_download(repo_id=hf_dataset_repo_id, allow_patterns=\"*.nc\", repo_type='dataset')\n",
    "dataset_root_path = os.path.join(abi_data_dir, 'abi-fulldisk')\n",
    "dataset_root_path"
   ]
  },
  {
   "cell_type": "code",
   "execution_count": null,
   "id": "cd922869-1272-4aa3-b1d4-1c937c69108a",
   "metadata": {},
   "outputs": [],
   "source": [
    "abi_metadata_path = os.path.join(dataset_root_path, 'ABI_EAST_GEO_TOPO_LOMSK.nc')"
   ]
  },
  {
   "cell_type": "code",
   "execution_count": null,
   "id": "eebe4f70-152f-4058-8b2d-27e97519bcb6",
   "metadata": {},
   "outputs": [],
   "source": [
    "# Root directory for all ABI data, path to NetCDF ABI file\n",
    "#ROOT = \"/explore/nobackup/people/jli30/data/abi_dg/abi/\"\n",
    "#abi_path = \"/explore/nobackup/people/jgong/ABI_EAST_GEO_TOPO_LOMSK.nc\""
   ]
  },
  {
   "cell_type": "markdown",
   "id": "1053473a-83b1-4062-8baf-fb8ef98d0289",
   "metadata": {
    "tags": []
   },
   "source": [
    "## Read, process ABI data"
   ]
  },
  {
   "cell_type": "code",
   "execution_count": null,
   "id": "4e85bf0c-ade1-4e30-a4c8-d13415d36eb9",
   "metadata": {},
   "outputs": [],
   "source": [
    "abi_dict = load_abi(abi_metadata_path)"
   ]
  },
  {
   "cell_type": "markdown",
   "id": "14f83063-1e2b-46bb-9f0e-2dfc6cfe54b4",
   "metadata": {},
   "source": [
    "## Create chip"
   ]
  },
  {
   "cell_type": "code",
   "execution_count": null,
   "id": "fae60c09-ccf8-412a-be48-04735421b9fe",
   "metadata": {},
   "outputs": [],
   "source": [
    "chip = create_chip(abi_dict, t, YYYY, DDD, lat, lon, dataset_root_path)"
   ]
  },
  {
   "cell_type": "markdown",
   "id": "50f21681-a961-48d2-8f9a-1bfc6166a85f",
   "metadata": {
    "tags": []
   },
   "source": [
    "## Load model"
   ]
  },
  {
   "cell_type": "code",
   "execution_count": null,
   "id": "8aa7c576-5469-42e7-b251-21cfb7bee1cc",
   "metadata": {},
   "outputs": [],
   "source": [
    "# download and update config from huggingface\n",
    "config = load_config()"
   ]
  },
  {
   "cell_type": "code",
   "execution_count": null,
   "id": "087b66bf-558d-4113-9a98-ede84fb9c06c",
   "metadata": {},
   "outputs": [],
   "source": [
    "# build base model from config, use encoder for FCN architecture\n",
    "model = build_mim_model(config)\n",
    "model = FCN(\n",
    "    swin_encoder=model.encoder,\n",
    "    num_output_channels=1, freeze_encoder=True)"
   ]
  },
  {
   "cell_type": "code",
   "execution_count": null,
   "id": "415577cb-ea8f-4dc7-901d-b347dda1ee14",
   "metadata": {},
   "outputs": [],
   "source": [
    "# load checkpoint from huggingface\n",
    "cloud_checkpoint = torch.load(\n",
    "    config.MODEL.RESUME, weights_only=False)\n",
    "cloud_checkpoint = cloud_checkpoint['module']\n",
    "cloud_checkpoint = {k.replace('model.', ''): v\n",
    "                    for k, v in cloud_checkpoint.items()\n",
    "                    if k.startswith('model')}"
   ]
  },
  {
   "cell_type": "code",
   "execution_count": null,
   "id": "b6c22ce3-9978-4643-a345-df333dc154ab",
   "metadata": {},
   "outputs": [],
   "source": [
    "# apply checkpoint to the model\n",
    "model.load_state_dict(cloud_checkpoint)\n",
    "model.eval()\n",
    "model.cuda();"
   ]
  },
  {
   "cell_type": "markdown",
   "id": "86a648ad-12b0-43a6-94cb-1e23b272ebb7",
   "metadata": {
    "tags": []
   },
   "source": [
    "## Perform and visualize model inference"
   ]
  },
  {
   "cell_type": "code",
   "execution_count": null,
   "id": "28eca4d9-1144-4a18-bc7e-d79731913969",
   "metadata": {},
   "outputs": [],
   "source": [
    "pred = torch.sigmoid(model(chip))\n",
    "plot_rgb_chip_and_mask(chip, pred, lat, lon)"
   ]
  }
 ],
 "metadata": {
  "kernelspec": {
   "display_name": "DEV Kernel",
   "language": "python",
   "name": "dev"
  },
  "language_info": {
   "codemirror_mode": {
    "name": "ipython",
    "version": 3
   },
   "file_extension": ".py",
   "mimetype": "text/x-python",
   "name": "python",
   "nbconvert_exporter": "python",
   "pygments_lexer": "ipython3",
   "version": "3.12.10"
  }
 },
 "nbformat": 4,
 "nbformat_minor": 5
}
