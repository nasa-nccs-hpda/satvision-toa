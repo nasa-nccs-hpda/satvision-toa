{
 "cells": [
  {
   "cell_type": "code",
   "execution_count": 1,
   "id": "a38e8b0b-da9d-477d-b0d3-34cf2b08dcd8",
   "metadata": {},
   "outputs": [],
   "source": [
    "import os\n",
    "import sys\n",
    "\n",
    "os.environ['PYTORCH_CUDA_ALLOC_CONF'] = 'expandable_segments:True'\n",
    "\n",
    "import io\n",
    "import torch\n",
    "import subprocess\n",
    "import numpy as np\n",
    "import pandas as pd\n",
    "import matplotlib.pyplot as plt\n",
    "from matplotlib import ticker\n",
    "\n",
    "from glob import glob\n",
    "from datetime import datetime\n",
    "from huggingface_hub import snapshot_download"
   ]
  },
  {
   "cell_type": "code",
   "execution_count": 2,
   "id": "379c1289-7895-4ed7-bb10-dcea1b1ac1e6",
   "metadata": {},
   "outputs": [],
   "source": [
    "# repo_dir = \"satvision-toa\"\n",
    "\n",
    "# if not os.path.exists(repo_dir):\n",
    "#     subprocess.run([\"git\", \"clone\", \"https://github.com/nasa-nccs-hpda/satvision-toa\"])\n",
    "# else:\n",
    "#     subprocess.run([\"git\", \"-C\", repo_dir, \"pull\"])"
   ]
  },
  {
   "cell_type": "code",
   "execution_count": 3,
   "id": "ed7eb36e-2a4a-4831-90f0-a9703b95ad9b",
   "metadata": {},
   "outputs": [],
   "source": [
    "sys.path.append(\"../../../satvision-toa\")\n",
    "from satvision_toa.configs.config import _C, _update_config_from_file\n",
    "from satvision_toa.models.mim import build_mim_model"
   ]
  },
  {
   "cell_type": "code",
   "execution_count": 4,
   "id": "d7b28096-492f-4c51-963f-f81e3faed7d6",
   "metadata": {},
   "outputs": [],
   "source": [
    "from satvision_toa.datasets.ocean_color_dataset import OceanColorDataset\n",
    "from satvision_toa.models.decoders.ocean_color_decoder import (\n",
    "    OceanColorUNETV2, OceanColorFCNV3,\n",
    "    OceanColorFCNV2, OceanColorFCNV2point5\n",
    ")\n",
    "from satvision_toa.models.decoders.ocean_color_e2e_decoder import (\n",
    "    OceanColorFCN, OceanColorUNET\n",
    ")\n",
    "\n",
    "from satvision_toa.transforms.ocean_color import (\n",
    "    GlobalMinMaxNorm, PBMinMaxNorm, ScaleAndOffset\n",
    ")\n",
    "\n",
    "from satvision_toa.data_utils.utils_ocean_color import (\n",
    "    load_config, get_dataloaders, train_model\n",
    ")"
   ]
  },
  {
   "cell_type": "code",
   "execution_count": 5,
   "id": "a797ebfd-9f59-4615-b699-e0b9ad0a3b61",
   "metadata": {},
   "outputs": [],
   "source": [
    "full_dir = \"/panfs/ccds02/nobackup/people/ajkerr1/SatVision/OceanColor\""
   ]
  },
  {
   "cell_type": "markdown",
   "id": "ba94d830-f612-4ce9-8f5c-a6a00b5a7080",
   "metadata": {},
   "source": [
    "## SV Model"
   ]
  },
  {
   "cell_type": "code",
   "execution_count": 6,
   "id": "2c97ff3f-a621-4338-beed-a3addfae3220",
   "metadata": {},
   "outputs": [],
   "source": [
    "train_dir = os.path.join(full_dir, \"chips/ft/chips_ft\")\n",
    "test_dir = os.path.join(full_dir, \"chips/ft/val_chips_ft\")"
   ]
  },
  {
   "cell_type": "code",
   "execution_count": null,
   "id": "10d3c092-33b0-4460-b682-98c902e121d7",
   "metadata": {},
   "outputs": [
    {
     "name": "stdout",
     "output_type": "stream",
     "text": [
      "=> merge config from /home/ajkerr1/.cache/huggingface/hub/models--nasa-cisto-data-science-group--downstream-satvision-toa-3dclouds/snapshots/1c6d3b4fba1a476956027e56d5dd9708bdfef0ba/mim_pretrain_swinv2_satvision_giant_128_window08_50ep.yaml\n"
     ]
    },
    {
     "name": "stderr",
     "output_type": "stream",
     "text": [
      "/panfs/ccds02/app/modules/jupyter/ilab/dev/kernel/lib/python3.12/site-packages/torch/functional.py:513: UserWarning: torch.meshgrid: in an upcoming release, it will be required to pass the indexing argument. (Triggered internally at /opt/conda/conda-bld/pytorch_1720538439675/work/aten/src/ATen/native/TensorShape.cpp:3609.)\n",
      "  return _VF.meshgrid(tensors, **kwargs)  # type: ignore[attr-defined]\n"
     ]
    }
   ],
   "source": [
    "config = load_config()\n",
    "model = build_mim_model(config)\n",
    "model = OceanColorFCNV2point5(\n",
    "    swin_encoder=model.encoder, freeze_encoder=True\n",
    ")"
   ]
  },
  {
   "cell_type": "code",
   "execution_count": null,
   "id": "dd8dc5da-c028-479e-b80e-e13baa0e8fa2",
   "metadata": {
    "scrolled": true
   },
   "outputs": [],
   "source": [
    "# ADJUST FOR TRAINING UNET VS SATVISION\n",
    "train_dataloader, val_dataloader, test_dataloader = get_dataloaders(\n",
    "    train_dir, test_dir, num_inputs=14, batch_size=64\n",
    ")\n",
    "\n",
    "num_epochs = 10\n",
    "save_every = 20\n",
    "test_every = 1\n",
    "save_path = \"sv_unet\"\n",
    "pdf_path = \"pred_pdfs/svtoa\"\n",
    "metrics_filename = \"sv_metrics\"\n",
    "sv_train_losses, sv_val_losses = train_model(\n",
    "    model, train_dataloader, val_dataloader, test_dataloader, num_epochs=num_epochs, \n",
    "    save_path=save_path, save_every=save_every, test_every=test_every, pdf_path=pdf_path, \n",
    "    metrics_filename=metrics_filename\n",
    ")"
   ]
  },
  {
   "cell_type": "markdown",
   "id": "dc2d1259-0ed9-4c75-b501-f8b545e67fb1",
   "metadata": {},
   "source": [
    "## Plain UNET"
   ]
  },
  {
   "cell_type": "code",
   "execution_count": null,
   "id": "752b80d6-861d-42f4-abb3-1152d2be315f",
   "metadata": {},
   "outputs": [],
   "source": [
    "train_dir = os.path.join(full_dir, \"chips/e2e/chips_6_27\")\n",
    "test_dir = os.path.join(full_dir, \"chips/e2e/val_chips_e2e\")"
   ]
  },
  {
   "cell_type": "code",
   "execution_count": null,
   "id": "536d823d-1ef9-4a0c-ac21-468e5a4b7afb",
   "metadata": {},
   "outputs": [],
   "source": [
    "model = OceanColorUNET(in_channels=12, out_channels=1)"
   ]
  },
  {
   "cell_type": "code",
   "execution_count": null,
   "id": "390dd67e-9092-4a88-b527-338a71996a26",
   "metadata": {},
   "outputs": [],
   "source": [
    "# ADJUST FOR TRAINING UNET VS SATVISION\n",
    "train_dataloader, val_dataloader, test_dataloader = get_dataloaders(\n",
    "    train_dir, test_dir, num_inputs=12, batch_size=64\n",
    ")\n",
    "\n",
    "num_epochs = 10\n",
    "save_every = 20\n",
    "test_every = 1\n",
    "save_path = \"e2e_unet\"\n",
    "pdf_path = \"pred_pdfs/e2e\"\n",
    "metrics_filename = \"e2e_metrics\"\n",
    "e2e_train_losses, e2e_val_losses = train_model(\n",
    "    model, train_dataloader, val_dataloader, test_dataloader, num_epochs=num_epochs, \n",
    "    save_path=save_path, save_every=save_every, test_every=test_every, pdf_path=pdf_path, \n",
    "    metrics_filename=metrics_filename\n",
    ")"
   ]
  },
  {
   "cell_type": "markdown",
   "id": "827ecf72-091d-48eb-92bf-f19efb954a9d",
   "metadata": {},
   "source": [
    "## Viz Epoch-level Metrics\n",
    "*Metrics other than loss have been divided into epochs 0-20 and 20 onward for visual clarity.*"
   ]
  },
  {
   "cell_type": "markdown",
   "id": "6a3acc21-37f7-437a-ad9f-3035da260cb4",
   "metadata": {},
   "source": [
    "### SatVision Metrics"
   ]
  },
  {
   "cell_type": "markdown",
   "id": "6cb962d6-2ee9-4712-9d0a-d4b5283a4967",
   "metadata": {},
   "source": [
    "#### Train, Val Losses"
   ]
  },
  {
   "cell_type": "code",
   "execution_count": null,
   "id": "55750658-ee17-4aa5-91e0-5284f2353e94",
   "metadata": {},
   "outputs": [],
   "source": [
    "fig, (ax1, ax2) = plt.subplots(2, 1, figsize=(40, 25))\n",
    "ax1.plot(sv_train_losses)\n",
    "ax2.plot(sv_val_losses)\n",
    "ax1.set_xlabel(\"Epoch\", fontsize=25)\n",
    "ax2.set_xlabel(\"Epoch\", fontsize=25)\n",
    "ax1.set_ylabel(\"Loss\", fontsize=25)\n",
    "ax2.set_ylabel(\"Loss\", fontsize=25)\n",
    "ax1.tick_params(axis='both', which='major', labelsize=15)\n",
    "ax2.tick_params(axis='both', which='major', labelsize=15)\n",
    "ax1.set_title(\"SatVision Train Loss\", fontsize=30)\n",
    "ax2.set_title(\"SatVision Val Loss\", fontsize=30)\n",
    "ax1.grid()\n",
    "ax2.grid()\n",
    "plt.show()"
   ]
  },
  {
   "cell_type": "markdown",
   "id": "e7a4a0c8-59b2-4816-8596-38d98e7318b9",
   "metadata": {},
   "source": [
    "#### R2, RMSE, SSIM, PSNR"
   ]
  },
  {
   "cell_type": "code",
   "execution_count": null,
   "id": "d3917495-ac08-4885-9427-a4c2232ff8ba",
   "metadata": {},
   "outputs": [],
   "source": [
    "sv_metrics_filename = 'sv_metrics_epoch_metrics.csv'\n",
    "df = pd.read_csv(sv_metrics_filename)\n",
    "df = df[['epoch', 'r2', 'rmse', 'ssim', 'psnr']]\n",
    "df1 = df.iloc[0:21]\n",
    "df2 = df.iloc[21:]\n",
    "\n",
    "fig, axes = plt.subplots(2, 2, figsize=(10, 6))\n",
    "axes = np.array(axes).flatten()\n",
    "metric_columns = ['r2', 'rmse', 'ssim', 'psnr']\n",
    "for idx, metric in enumerate(metric_columns):\n",
    "    axes[idx].plot(df['epoch'], df[metric], label=metric)\n",
    "    axes[idx].set_title(f'{metric.upper()} vs Epoch')\n",
    "    axes[idx].set_xlabel('Epoch')\n",
    "    axes[idx].set_ylabel(metric.upper())\n",
    "    axes[idx].grid(True, alpha=0.3)\n",
    "    axes[idx].xaxis.set_major_formatter(ticker.FormatStrFormatter('%d'))\n",
    "\n",
    "plt.tight_layout()\n",
    "plt.show()"
   ]
  },
  {
   "cell_type": "markdown",
   "id": "d15518c8-7ec1-463e-86c6-30cb36600e1c",
   "metadata": {},
   "source": [
    "### E2E Metrics"
   ]
  },
  {
   "cell_type": "markdown",
   "id": "6be3b782-339d-48a1-bb9d-f49ce1829165",
   "metadata": {},
   "source": [
    "#### Train, Val Losses"
   ]
  },
  {
   "cell_type": "code",
   "execution_count": null,
   "id": "f6e3f411-bf4f-42bc-a466-676f47751ad9",
   "metadata": {},
   "outputs": [],
   "source": [
    "fig, (ax1, ax2) = plt.subplots(2, 1, figsize=(40, 25))\n",
    "ax1.plot(e2e_train_losses)\n",
    "ax2.plot(e2e_val_losses)\n",
    "ax1.set_xlabel(\"Epoch\", fontsize=25)\n",
    "ax2.set_xlabel(\"Epoch\", fontsize=25)\n",
    "ax1.set_ylabel(\"Loss\", fontsize=25)\n",
    "ax2.set_ylabel(\"Loss\", fontsize=25)\n",
    "ax1.tick_params(axis='both', which='major', labelsize=15)\n",
    "ax2.tick_params(axis='both', which='major', labelsize=15)\n",
    "ax1.set_title(\"E2E Training Loss\", fontsize=30)\n",
    "ax2.set_title(\"E2E Validation Loss\", fontsize=30)\n",
    "ax1.grid()\n",
    "ax2.grid()\n",
    "plt.show()"
   ]
  },
  {
   "cell_type": "markdown",
   "id": "e285a4ab-b939-47b1-b8fe-202d36c0fdba",
   "metadata": {
    "jp-MarkdownHeadingCollapsed": true
   },
   "source": [
    "#### R2, RMSE, SSIM, PSNR"
   ]
  },
  {
   "cell_type": "code",
   "execution_count": null,
   "id": "c5375a6a-eb15-4dfb-869c-698bf13d1750",
   "metadata": {},
   "outputs": [],
   "source": [
    "e2e_metrics_filename = 'e2e_metrics_epoch_metrics.csv'\n",
    "df = pd.read_csv(e2e_metrics_filename)\n",
    "df = df[['epoch', 'r2', 'rmse', 'ssim', 'psnr']]\n",
    "df1 = df.iloc[0:21]\n",
    "df2 = df.iloc[21:]\n",
    "\n",
    "fig, axes = plt.subplots(2, 2, figsize=(10, 6))\n",
    "axes = np.array(axes).flatten()\n",
    "metric_columns = ['r2', 'rmse', 'ssim', 'psnr']\n",
    "for idx, metric in enumerate(metric_columns):\n",
    "    axes[idx].plot(df['epoch'], df[metric], label=metric)\n",
    "    axes[idx].set_title(f'E2E {metric.upper()} vs Epoch')\n",
    "    axes[idx].set_xlabel('Epoch')\n",
    "    axes[idx].set_ylabel(metric.upper())\n",
    "    axes[idx].grid(True, alpha=0.3)\n",
    "    axes[idx].xaxis.set_major_formatter(ticker.FormatStrFormatter('%d'))\n",
    "    axes[idx].yaxis.set_major_formatter(ticker.FormatStrFormatter('%.2f'))\n",
    "\n",
    "plt.tight_layout()\n",
    "plt.show()"
   ]
  }
 ],
 "metadata": {
  "kernelspec": {
   "display_name": "DEV Kernel",
   "language": "python",
   "name": "dev"
  },
  "language_info": {
   "codemirror_mode": {
    "name": "ipython",
    "version": 3
   },
   "file_extension": ".py",
   "mimetype": "text/x-python",
   "name": "python",
   "nbconvert_exporter": "python",
   "pygments_lexer": "ipython3",
   "version": "3.12.11"
  }
 },
 "nbformat": 4,
 "nbformat_minor": 5
}
